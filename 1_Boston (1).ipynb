{
 "cells": [
  {
   "cell_type": "code",
   "execution_count": 51,
   "metadata": {},
   "outputs": [
    {
     "name": "stdout",
     "output_type": "stream",
     "text": [
      "Requirement already satisfied: tensorflow in c:\\users\\supriya\\anaconda3\\lib\\site-packages (2.15.0)\n",
      "Requirement already satisfied: tensorflow-intel==2.15.0 in c:\\users\\supriya\\anaconda3\\lib\\site-packages (from tensorflow) (2.15.0)\n",
      "Requirement already satisfied: absl-py>=1.0.0 in c:\\users\\supriya\\anaconda3\\lib\\site-packages (from tensorflow-intel==2.15.0->tensorflow) (2.1.0)\n",
      "Requirement already satisfied: astunparse>=1.6.0 in c:\\users\\supriya\\anaconda3\\lib\\site-packages (from tensorflow-intel==2.15.0->tensorflow) (1.6.3)\n",
      "Requirement already satisfied: flatbuffers>=23.5.26 in c:\\users\\supriya\\anaconda3\\lib\\site-packages (from tensorflow-intel==2.15.0->tensorflow) (23.5.26)\n",
      "Requirement already satisfied: gast!=0.5.0,!=0.5.1,!=0.5.2,>=0.2.1 in c:\\users\\supriya\\anaconda3\\lib\\site-packages (from tensorflow-intel==2.15.0->tensorflow) (0.5.4)\n",
      "Requirement already satisfied: google-pasta>=0.1.1 in c:\\users\\supriya\\anaconda3\\lib\\site-packages (from tensorflow-intel==2.15.0->tensorflow) (0.2.0)\n",
      "Requirement already satisfied: h5py>=2.9.0 in c:\\users\\supriya\\anaconda3\\lib\\site-packages (from tensorflow-intel==2.15.0->tensorflow) (3.7.0)\n",
      "Requirement already satisfied: libclang>=13.0.0 in c:\\users\\supriya\\anaconda3\\lib\\site-packages (from tensorflow-intel==2.15.0->tensorflow) (16.0.6)\n",
      "Requirement already satisfied: ml-dtypes~=0.2.0 in c:\\users\\supriya\\anaconda3\\lib\\site-packages (from tensorflow-intel==2.15.0->tensorflow) (0.2.0)\n",
      "Requirement already satisfied: numpy<2.0.0,>=1.23.5 in c:\\users\\supriya\\anaconda3\\lib\\site-packages (from tensorflow-intel==2.15.0->tensorflow) (1.24.3)\n",
      "Requirement already satisfied: opt-einsum>=2.3.2 in c:\\users\\supriya\\anaconda3\\lib\\site-packages (from tensorflow-intel==2.15.0->tensorflow) (3.3.0)\n",
      "Requirement already satisfied: packaging in c:\\users\\supriya\\anaconda3\\lib\\site-packages (from tensorflow-intel==2.15.0->tensorflow) (23.0)\n",
      "Requirement already satisfied: protobuf!=4.21.0,!=4.21.1,!=4.21.2,!=4.21.3,!=4.21.4,!=4.21.5,<5.0.0dev,>=3.20.3 in c:\\users\\supriya\\anaconda3\\lib\\site-packages (from tensorflow-intel==2.15.0->tensorflow) (4.23.4)\n",
      "Requirement already satisfied: setuptools in c:\\users\\supriya\\anaconda3\\lib\\site-packages (from tensorflow-intel==2.15.0->tensorflow) (68.0.0)\n",
      "Requirement already satisfied: six>=1.12.0 in c:\\users\\supriya\\anaconda3\\lib\\site-packages (from tensorflow-intel==2.15.0->tensorflow) (1.16.0)\n",
      "Requirement already satisfied: termcolor>=1.1.0 in c:\\users\\supriya\\anaconda3\\lib\\site-packages (from tensorflow-intel==2.15.0->tensorflow) (2.4.0)\n",
      "Requirement already satisfied: typing-extensions>=3.6.6 in c:\\users\\supriya\\anaconda3\\lib\\site-packages (from tensorflow-intel==2.15.0->tensorflow) (4.7.1)\n",
      "Requirement already satisfied: wrapt<1.15,>=1.11.0 in c:\\users\\supriya\\anaconda3\\lib\\site-packages (from tensorflow-intel==2.15.0->tensorflow) (1.14.1)\n",
      "Requirement already satisfied: tensorflow-io-gcs-filesystem>=0.23.1 in c:\\users\\supriya\\anaconda3\\lib\\site-packages (from tensorflow-intel==2.15.0->tensorflow) (0.31.0)\n",
      "Requirement already satisfied: grpcio<2.0,>=1.24.3 in c:\\users\\supriya\\anaconda3\\lib\\site-packages (from tensorflow-intel==2.15.0->tensorflow) (1.60.0)\n",
      "Requirement already satisfied: tensorboard<2.16,>=2.15 in c:\\users\\supriya\\anaconda3\\lib\\site-packages (from tensorflow-intel==2.15.0->tensorflow) (2.15.1)\n",
      "Requirement already satisfied: tensorflow-estimator<2.16,>=2.15.0 in c:\\users\\supriya\\anaconda3\\lib\\site-packages (from tensorflow-intel==2.15.0->tensorflow) (2.15.0)\n",
      "Requirement already satisfied: keras<2.16,>=2.15.0 in c:\\users\\supriya\\anaconda3\\lib\\site-packages (from tensorflow-intel==2.15.0->tensorflow) (2.15.0)\n",
      "Requirement already satisfied: wheel<1.0,>=0.23.0 in c:\\users\\supriya\\anaconda3\\lib\\site-packages (from astunparse>=1.6.0->tensorflow-intel==2.15.0->tensorflow) (0.38.4)\n",
      "Requirement already satisfied: google-auth<3,>=1.6.3 in c:\\users\\supriya\\anaconda3\\lib\\site-packages (from tensorboard<2.16,>=2.15->tensorflow-intel==2.15.0->tensorflow) (2.26.2)\n",
      "Requirement already satisfied: google-auth-oauthlib<2,>=0.5 in c:\\users\\supriya\\anaconda3\\lib\\site-packages (from tensorboard<2.16,>=2.15->tensorflow-intel==2.15.0->tensorflow) (1.2.0)\n",
      "Requirement already satisfied: markdown>=2.6.8 in c:\\users\\supriya\\anaconda3\\lib\\site-packages (from tensorboard<2.16,>=2.15->tensorflow-intel==2.15.0->tensorflow) (3.4.1)\n",
      "Requirement already satisfied: requests<3,>=2.21.0 in c:\\users\\supriya\\anaconda3\\lib\\site-packages (from tensorboard<2.16,>=2.15->tensorflow-intel==2.15.0->tensorflow) (2.32.3)\n",
      "Requirement already satisfied: tensorboard-data-server<0.8.0,>=0.7.0 in c:\\users\\supriya\\anaconda3\\lib\\site-packages (from tensorboard<2.16,>=2.15->tensorflow-intel==2.15.0->tensorflow) (0.7.2)\n",
      "Requirement already satisfied: werkzeug>=1.0.1 in c:\\users\\supriya\\anaconda3\\lib\\site-packages (from tensorboard<2.16,>=2.15->tensorflow-intel==2.15.0->tensorflow) (2.2.3)\n",
      "Requirement already satisfied: cachetools<6.0,>=2.0.0 in c:\\users\\supriya\\anaconda3\\lib\\site-packages (from google-auth<3,>=1.6.3->tensorboard<2.16,>=2.15->tensorflow-intel==2.15.0->tensorflow) (5.3.2)\n",
      "Requirement already satisfied: pyasn1-modules>=0.2.1 in c:\\users\\supriya\\anaconda3\\lib\\site-packages (from google-auth<3,>=1.6.3->tensorboard<2.16,>=2.15->tensorflow-intel==2.15.0->tensorflow) (0.2.8)\n",
      "Requirement already satisfied: rsa<5,>=3.1.4 in c:\\users\\supriya\\anaconda3\\lib\\site-packages (from google-auth<3,>=1.6.3->tensorboard<2.16,>=2.15->tensorflow-intel==2.15.0->tensorflow) (4.9)\n",
      "Requirement already satisfied: requests-oauthlib>=0.7.0 in c:\\users\\supriya\\anaconda3\\lib\\site-packages (from google-auth-oauthlib<2,>=0.5->tensorboard<2.16,>=2.15->tensorflow-intel==2.15.0->tensorflow) (1.2.0)\n",
      "Requirement already satisfied: charset-normalizer<4,>=2 in c:\\users\\supriya\\anaconda3\\lib\\site-packages (from requests<3,>=2.21.0->tensorboard<2.16,>=2.15->tensorflow-intel==2.15.0->tensorflow) (2.0.4)\n",
      "Requirement already satisfied: idna<4,>=2.5 in c:\\users\\supriya\\anaconda3\\lib\\site-packages (from requests<3,>=2.21.0->tensorboard<2.16,>=2.15->tensorflow-intel==2.15.0->tensorflow) (2.8)\n",
      "Requirement already satisfied: urllib3<3,>=1.21.1 in c:\\users\\supriya\\anaconda3\\lib\\site-packages (from requests<3,>=2.21.0->tensorboard<2.16,>=2.15->tensorflow-intel==2.15.0->tensorflow) (1.24.2)\n",
      "Requirement already satisfied: certifi>=2017.4.17 in c:\\users\\supriya\\anaconda3\\lib\\site-packages (from requests<3,>=2.21.0->tensorboard<2.16,>=2.15->tensorflow-intel==2.15.0->tensorflow) (2019.3.9)\n",
      "Requirement already satisfied: MarkupSafe>=2.1.1 in c:\\users\\supriya\\anaconda3\\lib\\site-packages (from werkzeug>=1.0.1->tensorboard<2.16,>=2.15->tensorflow-intel==2.15.0->tensorflow) (2.1.1)\n",
      "Requirement already satisfied: pyasn1<0.5.0,>=0.4.6 in c:\\users\\supriya\\anaconda3\\lib\\site-packages (from pyasn1-modules>=0.2.1->google-auth<3,>=1.6.3->tensorboard<2.16,>=2.15->tensorflow-intel==2.15.0->tensorflow) (0.4.8)\n",
      "Requirement already satisfied: oauthlib>=3.0.0 in c:\\users\\supriya\\anaconda3\\lib\\site-packages (from requests-oauthlib>=0.7.0->google-auth-oauthlib<2,>=0.5->tensorboard<2.16,>=2.15->tensorflow-intel==2.15.0->tensorflow) (3.0.1)\n"
     ]
    }
   ],
   "source": [
    "!pip install tensorflow"
   ]
  },
  {
   "cell_type": "code",
   "execution_count": 52,
   "metadata": {},
   "outputs": [],
   "source": [
    "import tensorflow as tf\n",
    "from tensorflow.keras import layers\n",
    "from tensorflow.keras.datasets import boston_housing\n",
    "import numpy as np\n",
    "import matplotlib.pyplot as plt"
   ]
  },
  {
   "cell_type": "code",
   "execution_count": 53,
   "metadata": {},
   "outputs": [],
   "source": [
    "# Load the dataset\n",
    "(x_train, y_train), (x_test, y_test) = boston_housing.load_data()\n"
   ]
  },
  {
   "cell_type": "code",
   "execution_count": 54,
   "metadata": {},
   "outputs": [
    {
     "name": "stdout",
     "output_type": "stream",
     "text": [
      "Sample input features (first 5 rows):\n",
      "[[1.23247e+00 0.00000e+00 8.14000e+00 0.00000e+00 5.38000e-01 6.14200e+00\n",
      "  9.17000e+01 3.97690e+00 4.00000e+00 3.07000e+02 2.10000e+01 3.96900e+02\n",
      "  1.87200e+01]\n",
      " [2.17700e-02 8.25000e+01 2.03000e+00 0.00000e+00 4.15000e-01 7.61000e+00\n",
      "  1.57000e+01 6.27000e+00 2.00000e+00 3.48000e+02 1.47000e+01 3.95380e+02\n",
      "  3.11000e+00]\n",
      " [4.89822e+00 0.00000e+00 1.81000e+01 0.00000e+00 6.31000e-01 4.97000e+00\n",
      "  1.00000e+02 1.33250e+00 2.40000e+01 6.66000e+02 2.02000e+01 3.75520e+02\n",
      "  3.26000e+00]\n",
      " [3.96100e-02 0.00000e+00 5.19000e+00 0.00000e+00 5.15000e-01 6.03700e+00\n",
      "  3.45000e+01 5.98530e+00 5.00000e+00 2.24000e+02 2.02000e+01 3.96900e+02\n",
      "  8.01000e+00]\n",
      " [3.69311e+00 0.00000e+00 1.81000e+01 0.00000e+00 7.13000e-01 6.37600e+00\n",
      "  8.84000e+01 2.56710e+00 2.40000e+01 6.66000e+02 2.02000e+01 3.91430e+02\n",
      "  1.46500e+01]]\n",
      "\n",
      "Corresponding target house prices:\n",
      "[15.2 42.3 50.  21.1 17.7]\n"
     ]
    }
   ],
   "source": [
    "# Show a few sample rows of input and output\n",
    "print(\"Sample input features (first 5 rows):\")\n",
    "print(x_train[:5])\n",
    "\n",
    "print(\"\\nCorresponding target house prices:\")\n",
    "print(y_train[:5])"
   ]
  },
  {
   "cell_type": "code",
   "execution_count": 55,
   "metadata": {},
   "outputs": [],
   "source": [
    "# Normalize input features\n",
    "mean = x_train.mean(axis=0)\n",
    "std = x_train.std(axis=0)\n",
    "x_train = (x_train - mean) / std\n",
    "x_test = (x_test - mean) / std"
   ]
  },
  {
   "cell_type": "code",
   "execution_count": 56,
   "metadata": {},
   "outputs": [],
   "source": [
    "# Build the model\n",
    "model = tf.keras.Sequential([\n",
    "    layers.Dense(128, activation='relu', input_shape=(x_train.shape[1],)),\n",
    "    layers.Dense(64, activation='relu'),\n",
    "    layers.Dense(32, activation='relu'),\n",
    "    layers.Dense(1)  # Regression output\n",
    "])"
   ]
  },
  {
   "cell_type": "code",
   "execution_count": 57,
   "metadata": {},
   "outputs": [],
   "source": [
    "# Compile the model\n",
    "model.compile(optimizer='adam', loss='mse', metrics=['mae'])"
   ]
  },
  {
   "cell_type": "code",
   "execution_count": 58,
   "metadata": {},
   "outputs": [
    {
     "name": "stdout",
     "output_type": "stream",
     "text": [
      "Epoch 1/100\n",
      "21/21 [==============================] - 1s 15ms/step - loss: 516.1891 - mae: 20.7541 - val_loss: 504.6201 - val_mae: 20.4556\n",
      "Epoch 2/100\n",
      "21/21 [==============================] - 0s 5ms/step - loss: 313.5218 - mae: 15.2934 - val_loss: 193.6116 - val_mae: 11.5479\n",
      "Epoch 3/100\n",
      "21/21 [==============================] - 0s 5ms/step - loss: 90.9602 - mae: 7.4994 - val_loss: 63.3239 - val_mae: 6.2328\n",
      "Epoch 4/100\n",
      "21/21 [==============================] - 0s 4ms/step - loss: 43.5958 - mae: 4.8429 - val_loss: 35.2271 - val_mae: 4.4257\n",
      "Epoch 5/100\n",
      "21/21 [==============================] - 0s 5ms/step - loss: 27.0006 - mae: 3.7151 - val_loss: 24.6326 - val_mae: 3.8457\n",
      "Epoch 6/100\n",
      "21/21 [==============================] - 0s 4ms/step - loss: 21.9187 - mae: 3.3331 - val_loss: 21.5619 - val_mae: 3.5614\n",
      "Epoch 7/100\n",
      "21/21 [==============================] - 0s 5ms/step - loss: 19.1108 - mae: 3.0620 - val_loss: 19.6103 - val_mae: 3.3808\n",
      "Epoch 8/100\n",
      "21/21 [==============================] - 0s 5ms/step - loss: 17.2813 - mae: 2.8724 - val_loss: 17.8660 - val_mae: 3.2374\n",
      "Epoch 9/100\n",
      "21/21 [==============================] - 0s 6ms/step - loss: 15.6049 - mae: 2.7173 - val_loss: 16.4467 - val_mae: 3.1121\n",
      "Epoch 10/100\n",
      "21/21 [==============================] - 0s 5ms/step - loss: 14.6704 - mae: 2.6964 - val_loss: 15.4704 - val_mae: 2.9471\n",
      "Epoch 11/100\n",
      "21/21 [==============================] - 0s 5ms/step - loss: 13.5920 - mae: 2.5554 - val_loss: 15.0082 - val_mae: 2.9525\n",
      "Epoch 12/100\n",
      "21/21 [==============================] - 0s 5ms/step - loss: 12.9021 - mae: 2.5110 - val_loss: 13.6745 - val_mae: 2.7612\n",
      "Epoch 13/100\n",
      "21/21 [==============================] - 0s 4ms/step - loss: 12.1979 - mae: 2.4521 - val_loss: 13.3536 - val_mae: 2.7217\n",
      "Epoch 14/100\n",
      "21/21 [==============================] - 0s 5ms/step - loss: 11.6182 - mae: 2.3624 - val_loss: 13.2086 - val_mae: 2.7442\n",
      "Epoch 15/100\n",
      "21/21 [==============================] - 0s 5ms/step - loss: 11.3674 - mae: 2.4292 - val_loss: 13.1052 - val_mae: 2.7340\n",
      "Epoch 16/100\n",
      "21/21 [==============================] - 0s 5ms/step - loss: 11.0049 - mae: 2.3269 - val_loss: 13.1695 - val_mae: 2.7693\n",
      "Epoch 17/100\n",
      "21/21 [==============================] - 0s 6ms/step - loss: 10.4932 - mae: 2.2868 - val_loss: 12.6224 - val_mae: 2.6226\n",
      "Epoch 18/100\n",
      "21/21 [==============================] - 0s 5ms/step - loss: 10.4871 - mae: 2.2909 - val_loss: 13.2312 - val_mae: 2.6638\n",
      "Epoch 19/100\n",
      "21/21 [==============================] - 0s 4ms/step - loss: 10.3431 - mae: 2.3442 - val_loss: 12.4411 - val_mae: 2.6743\n",
      "Epoch 20/100\n",
      "21/21 [==============================] - 0s 5ms/step - loss: 9.8861 - mae: 2.1879 - val_loss: 12.2511 - val_mae: 2.5916\n",
      "Epoch 21/100\n",
      "21/21 [==============================] - 0s 5ms/step - loss: 9.2632 - mae: 2.1426 - val_loss: 12.4342 - val_mae: 2.5772\n",
      "Epoch 22/100\n",
      "21/21 [==============================] - 0s 5ms/step - loss: 9.3957 - mae: 2.1431 - val_loss: 12.3184 - val_mae: 2.5042\n",
      "Epoch 23/100\n",
      "21/21 [==============================] - 0s 5ms/step - loss: 8.8675 - mae: 2.0798 - val_loss: 13.6151 - val_mae: 2.6939\n",
      "Epoch 24/100\n",
      "21/21 [==============================] - 0s 5ms/step - loss: 8.9798 - mae: 2.1230 - val_loss: 13.4363 - val_mae: 2.6039\n",
      "Epoch 25/100\n",
      "21/21 [==============================] - 0s 5ms/step - loss: 8.6054 - mae: 2.0678 - val_loss: 12.4768 - val_mae: 2.5402\n",
      "Epoch 26/100\n",
      "21/21 [==============================] - 0s 5ms/step - loss: 8.6799 - mae: 2.0740 - val_loss: 12.3285 - val_mae: 2.5291\n",
      "Epoch 27/100\n",
      "21/21 [==============================] - 0s 4ms/step - loss: 8.4976 - mae: 2.0894 - val_loss: 12.3308 - val_mae: 2.5430\n",
      "Epoch 28/100\n",
      "21/21 [==============================] - 0s 5ms/step - loss: 8.2711 - mae: 2.0402 - val_loss: 12.3376 - val_mae: 2.5839\n",
      "Epoch 29/100\n",
      "21/21 [==============================] - 0s 5ms/step - loss: 8.2279 - mae: 2.0474 - val_loss: 12.2255 - val_mae: 2.5926\n",
      "Epoch 30/100\n",
      "21/21 [==============================] - 0s 5ms/step - loss: 8.0628 - mae: 1.9949 - val_loss: 12.4607 - val_mae: 2.5567\n",
      "Epoch 31/100\n",
      "21/21 [==============================] - 0s 5ms/step - loss: 7.9532 - mae: 2.0061 - val_loss: 13.3656 - val_mae: 2.6089\n",
      "Epoch 32/100\n",
      "21/21 [==============================] - 0s 4ms/step - loss: 7.7386 - mae: 1.9575 - val_loss: 12.6165 - val_mae: 2.5811\n",
      "Epoch 33/100\n",
      "21/21 [==============================] - 0s 4ms/step - loss: 7.8755 - mae: 1.9543 - val_loss: 12.9441 - val_mae: 2.4516\n",
      "Epoch 34/100\n",
      "21/21 [==============================] - 0s 5ms/step - loss: 7.6179 - mae: 1.9352 - val_loss: 13.7408 - val_mae: 2.6398\n",
      "Epoch 35/100\n",
      "21/21 [==============================] - 0s 5ms/step - loss: 7.5401 - mae: 1.9834 - val_loss: 12.6095 - val_mae: 2.6088\n",
      "Epoch 36/100\n",
      "21/21 [==============================] - 0s 5ms/step - loss: 7.5414 - mae: 1.9127 - val_loss: 14.5803 - val_mae: 2.5314\n",
      "Epoch 37/100\n",
      "21/21 [==============================] - 0s 4ms/step - loss: 7.3125 - mae: 1.9344 - val_loss: 13.6655 - val_mae: 2.5892\n",
      "Epoch 38/100\n",
      "21/21 [==============================] - 0s 5ms/step - loss: 7.1594 - mae: 1.8592 - val_loss: 12.3312 - val_mae: 2.4365\n",
      "Epoch 39/100\n",
      "21/21 [==============================] - 0s 5ms/step - loss: 6.9162 - mae: 1.8673 - val_loss: 13.1163 - val_mae: 2.5317\n",
      "Epoch 40/100\n",
      "21/21 [==============================] - 0s 5ms/step - loss: 6.8848 - mae: 1.8453 - val_loss: 13.3471 - val_mae: 2.4977\n",
      "Epoch 41/100\n",
      "21/21 [==============================] - 0s 5ms/step - loss: 6.8392 - mae: 1.8533 - val_loss: 13.8079 - val_mae: 2.5038\n",
      "Epoch 42/100\n",
      "21/21 [==============================] - 0s 4ms/step - loss: 6.7592 - mae: 1.8699 - val_loss: 12.9795 - val_mae: 2.5402\n",
      "Epoch 43/100\n",
      "21/21 [==============================] - 0s 4ms/step - loss: 6.9126 - mae: 1.8522 - val_loss: 12.9136 - val_mae: 2.4818\n",
      "Epoch 44/100\n",
      "21/21 [==============================] - 0s 4ms/step - loss: 6.6246 - mae: 1.8685 - val_loss: 12.5770 - val_mae: 2.5251\n",
      "Epoch 45/100\n",
      "21/21 [==============================] - 0s 6ms/step - loss: 6.5117 - mae: 1.8084 - val_loss: 13.9809 - val_mae: 2.5200\n",
      "Epoch 46/100\n",
      "21/21 [==============================] - 0s 5ms/step - loss: 6.5045 - mae: 1.8059 - val_loss: 12.8241 - val_mae: 2.5231\n",
      "Epoch 47/100\n",
      "21/21 [==============================] - 0s 4ms/step - loss: 6.2709 - mae: 1.7566 - val_loss: 13.4275 - val_mae: 2.4469\n",
      "Epoch 48/100\n",
      "21/21 [==============================] - 0s 5ms/step - loss: 6.4196 - mae: 1.8084 - val_loss: 13.6849 - val_mae: 2.4245\n",
      "Epoch 49/100\n",
      "21/21 [==============================] - 0s 5ms/step - loss: 6.0871 - mae: 1.7411 - val_loss: 13.4887 - val_mae: 2.4706\n",
      "Epoch 50/100\n",
      "21/21 [==============================] - 0s 5ms/step - loss: 6.6340 - mae: 1.8033 - val_loss: 14.7675 - val_mae: 2.4691\n",
      "Epoch 51/100\n",
      "21/21 [==============================] - 0s 5ms/step - loss: 5.9230 - mae: 1.7264 - val_loss: 12.7854 - val_mae: 2.4643\n",
      "Epoch 52/100\n",
      "21/21 [==============================] - 0s 5ms/step - loss: 5.7342 - mae: 1.6704 - val_loss: 13.0141 - val_mae: 2.4454\n",
      "Epoch 53/100\n",
      "21/21 [==============================] - 0s 5ms/step - loss: 5.8824 - mae: 1.7089 - val_loss: 13.1760 - val_mae: 2.5227\n",
      "Epoch 54/100\n",
      "21/21 [==============================] - 0s 5ms/step - loss: 5.6101 - mae: 1.6353 - val_loss: 13.3262 - val_mae: 2.4173\n",
      "Epoch 55/100\n",
      "21/21 [==============================] - 0s 5ms/step - loss: 5.7015 - mae: 1.6646 - val_loss: 13.9681 - val_mae: 2.4242\n",
      "Epoch 56/100\n",
      "21/21 [==============================] - 0s 4ms/step - loss: 5.5489 - mae: 1.6235 - val_loss: 12.4752 - val_mae: 2.4713\n",
      "Epoch 57/100\n",
      "21/21 [==============================] - 0s 4ms/step - loss: 5.4526 - mae: 1.6494 - val_loss: 13.4738 - val_mae: 2.4622\n",
      "Epoch 58/100\n",
      "21/21 [==============================] - 0s 4ms/step - loss: 5.4904 - mae: 1.6522 - val_loss: 13.2597 - val_mae: 2.4968\n",
      "Epoch 59/100\n",
      "21/21 [==============================] - 0s 5ms/step - loss: 5.2480 - mae: 1.6102 - val_loss: 13.5540 - val_mae: 2.5058\n",
      "Epoch 60/100\n",
      "21/21 [==============================] - 0s 5ms/step - loss: 5.3931 - mae: 1.6126 - val_loss: 16.9234 - val_mae: 2.7289\n",
      "Epoch 61/100\n",
      "21/21 [==============================] - 0s 5ms/step - loss: 5.9655 - mae: 1.7383 - val_loss: 14.2275 - val_mae: 2.4372\n",
      "Epoch 62/100\n"
     ]
    },
    {
     "name": "stdout",
     "output_type": "stream",
     "text": [
      "21/21 [==============================] - 0s 5ms/step - loss: 5.2081 - mae: 1.6013 - val_loss: 12.4641 - val_mae: 2.4292\n",
      "Epoch 63/100\n",
      "21/21 [==============================] - 0s 4ms/step - loss: 5.0332 - mae: 1.5297 - val_loss: 12.8606 - val_mae: 2.4006\n",
      "Epoch 64/100\n",
      "21/21 [==============================] - 0s 5ms/step - loss: 5.3483 - mae: 1.6398 - val_loss: 14.9000 - val_mae: 2.4405\n",
      "Epoch 65/100\n",
      "21/21 [==============================] - 0s 5ms/step - loss: 5.6740 - mae: 1.6869 - val_loss: 14.4726 - val_mae: 2.4700\n",
      "Epoch 66/100\n",
      "21/21 [==============================] - 0s 5ms/step - loss: 5.1765 - mae: 1.5334 - val_loss: 13.2188 - val_mae: 2.4498\n",
      "Epoch 67/100\n",
      "21/21 [==============================] - 0s 5ms/step - loss: 5.4041 - mae: 1.6466 - val_loss: 13.3926 - val_mae: 2.5050\n",
      "Epoch 68/100\n",
      "21/21 [==============================] - 0s 5ms/step - loss: 4.9544 - mae: 1.5809 - val_loss: 12.9814 - val_mae: 2.4124\n",
      "Epoch 69/100\n",
      "21/21 [==============================] - 0s 5ms/step - loss: 4.5916 - mae: 1.5005 - val_loss: 13.6814 - val_mae: 2.4059\n",
      "Epoch 70/100\n",
      "21/21 [==============================] - 0s 5ms/step - loss: 4.4889 - mae: 1.4582 - val_loss: 13.0434 - val_mae: 2.3808\n",
      "Epoch 71/100\n",
      "21/21 [==============================] - 0s 4ms/step - loss: 4.4928 - mae: 1.4413 - val_loss: 13.2202 - val_mae: 2.3933\n",
      "Epoch 72/100\n",
      "21/21 [==============================] - 0s 5ms/step - loss: 4.4866 - mae: 1.4794 - val_loss: 13.2292 - val_mae: 2.4210\n",
      "Epoch 73/100\n",
      "21/21 [==============================] - 0s 5ms/step - loss: 4.4469 - mae: 1.4374 - val_loss: 13.2821 - val_mae: 2.5399\n",
      "Epoch 74/100\n",
      "21/21 [==============================] - 0s 4ms/step - loss: 4.3622 - mae: 1.4648 - val_loss: 12.7314 - val_mae: 2.3649\n",
      "Epoch 75/100\n",
      "21/21 [==============================] - 0s 5ms/step - loss: 4.2724 - mae: 1.4341 - val_loss: 13.4489 - val_mae: 2.3461\n",
      "Epoch 76/100\n",
      "21/21 [==============================] - 0s 4ms/step - loss: 4.2505 - mae: 1.3949 - val_loss: 13.0338 - val_mae: 2.3182\n",
      "Epoch 77/100\n",
      "21/21 [==============================] - 0s 4ms/step - loss: 4.5060 - mae: 1.4993 - val_loss: 12.8056 - val_mae: 2.3667\n",
      "Epoch 78/100\n",
      "21/21 [==============================] - 0s 5ms/step - loss: 4.3687 - mae: 1.4515 - val_loss: 12.9331 - val_mae: 2.3660\n",
      "Epoch 79/100\n",
      "21/21 [==============================] - 0s 5ms/step - loss: 4.3320 - mae: 1.4223 - val_loss: 13.1121 - val_mae: 2.3345\n",
      "Epoch 80/100\n",
      "21/21 [==============================] - 0s 5ms/step - loss: 4.5870 - mae: 1.5159 - val_loss: 13.4322 - val_mae: 2.4439\n",
      "Epoch 81/100\n",
      "21/21 [==============================] - 0s 5ms/step - loss: 4.3956 - mae: 1.4257 - val_loss: 12.7973 - val_mae: 2.3496\n",
      "Epoch 82/100\n",
      "21/21 [==============================] - 0s 4ms/step - loss: 4.0412 - mae: 1.4138 - val_loss: 13.2136 - val_mae: 2.3594\n",
      "Epoch 83/100\n",
      "21/21 [==============================] - 0s 4ms/step - loss: 4.1067 - mae: 1.4045 - val_loss: 13.9908 - val_mae: 2.3623\n",
      "Epoch 84/100\n",
      "21/21 [==============================] - 0s 5ms/step - loss: 3.9962 - mae: 1.3553 - val_loss: 13.6164 - val_mae: 2.3180\n",
      "Epoch 85/100\n",
      "21/21 [==============================] - 0s 5ms/step - loss: 3.6551 - mae: 1.3158 - val_loss: 13.4808 - val_mae: 2.3153\n",
      "Epoch 86/100\n",
      "21/21 [==============================] - 0s 5ms/step - loss: 3.6609 - mae: 1.3338 - val_loss: 13.7890 - val_mae: 2.3637\n",
      "Epoch 87/100\n",
      "21/21 [==============================] - 0s 5ms/step - loss: 3.6250 - mae: 1.3439 - val_loss: 12.9038 - val_mae: 2.3542\n",
      "Epoch 88/100\n",
      "21/21 [==============================] - 0s 6ms/step - loss: 3.7115 - mae: 1.3168 - val_loss: 13.9549 - val_mae: 2.4045\n",
      "Epoch 89/100\n",
      "21/21 [==============================] - 0s 5ms/step - loss: 4.3909 - mae: 1.4883 - val_loss: 14.7622 - val_mae: 2.5287\n",
      "Epoch 90/100\n",
      "21/21 [==============================] - 0s 6ms/step - loss: 3.9172 - mae: 1.4312 - val_loss: 12.5830 - val_mae: 2.4199\n",
      "Epoch 91/100\n",
      "21/21 [==============================] - 0s 5ms/step - loss: 3.8306 - mae: 1.3291 - val_loss: 12.3517 - val_mae: 2.2417\n",
      "Epoch 92/100\n",
      "21/21 [==============================] - 0s 4ms/step - loss: 3.5336 - mae: 1.2953 - val_loss: 14.8743 - val_mae: 2.3669\n",
      "Epoch 93/100\n",
      "21/21 [==============================] - 0s 4ms/step - loss: 3.4263 - mae: 1.3093 - val_loss: 14.1516 - val_mae: 2.4240\n",
      "Epoch 94/100\n",
      "21/21 [==============================] - 0s 5ms/step - loss: 3.4672 - mae: 1.3121 - val_loss: 13.7310 - val_mae: 2.3572\n",
      "Epoch 95/100\n",
      "21/21 [==============================] - 0s 5ms/step - loss: 3.6459 - mae: 1.3460 - val_loss: 14.5334 - val_mae: 2.3564\n",
      "Epoch 96/100\n",
      "21/21 [==============================] - 0s 4ms/step - loss: 3.6548 - mae: 1.3767 - val_loss: 12.4739 - val_mae: 2.3513\n",
      "Epoch 97/100\n",
      "21/21 [==============================] - 0s 5ms/step - loss: 3.3554 - mae: 1.2952 - val_loss: 12.1965 - val_mae: 2.2824\n",
      "Epoch 98/100\n",
      "21/21 [==============================] - 0s 4ms/step - loss: 3.4213 - mae: 1.3402 - val_loss: 12.2791 - val_mae: 2.3525\n",
      "Epoch 99/100\n",
      "21/21 [==============================] - 0s 5ms/step - loss: 3.6897 - mae: 1.3919 - val_loss: 11.6892 - val_mae: 2.2070\n",
      "Epoch 100/100\n",
      "21/21 [==============================] - 0s 5ms/step - loss: 3.1948 - mae: 1.2402 - val_loss: 14.4212 - val_mae: 2.3977\n"
     ]
    }
   ],
   "source": [
    "# Train the model and store the history\n",
    "history = model.fit(x_train, y_train, epochs=100, validation_split=0.2, batch_size=16, verbose=1)"
   ]
  },
  {
   "cell_type": "code",
   "execution_count": 59,
   "metadata": {},
   "outputs": [
    {
     "name": "stdout",
     "output_type": "stream",
     "text": [
      "4/4 [==============================] - 0s 3ms/step - loss: 18.0127 - mae: 2.7377\n",
      "\n",
      "Test Mean Absolute Error: 2.74\n"
     ]
    }
   ],
   "source": [
    "\n",
    "# Evaluate the model\n",
    "loss, mae = model.evaluate(x_test, y_test)\n",
    "print(f\"\\nTest Mean Absolute Error: {mae:.2f}\")"
   ]
  },
  {
   "cell_type": "code",
   "execution_count": 60,
   "metadata": {},
   "outputs": [
    {
     "data": {
      "image/png": "[encoded data removed]",
      "text/plain": [
       "<Figure size 640x480 with 1 Axes>"
      ]
     },
     "metadata": {},
     "output_type": "display_data"
    }
   ],
   "source": [
    "# Plot only training loss without legend or title\n",
    "plt.plot(history.history['loss'])\n",
    "plt.xlabel('Epochs')\n",
    "plt.ylabel('Mean Squared Error')\n",
    "plt.show()"
   ]
  },
  {
   "cell_type": "code",
   "execution_count": 61,
   "metadata": {},
   "outputs": [
    {
     "name": "stdout",
     "output_type": "stream",
     "text": [
      "4/4 [==============================] - 0s 3ms/step - loss: 18.0127 - mae: 2.7377\n",
      "MSE :  18.012683868408203\n",
      "MAE :  2.737741470336914\n"
     ]
    }
   ],
   "source": [
    "mse,mae = model.evaluate(x_test,y_test)\n",
    "print('MSE : ',mse)\n",
    "print('MAE : ',mae)"
   ]
  },
  {
   "cell_type": "code",
   "execution_count": 62,
   "metadata": {},
   "outputs": [
    {
     "name": "stdout",
     "output_type": "stream",
     "text": [
      "4/4 [==============================] - 0s 3ms/step\n"
     ]
    }
   ],
   "source": [
    "y1 = model.predict(x_test[:])"
   ]
  },
  {
   "cell_type": "code",
   "execution_count": 63,
   "metadata": {},
   "outputs": [
    {
     "data": {
      "text/plain": [
       "array([ 7.2, 18.8, 19. , 27. , 22.2, 24.5, 31.2, 22.9, 20.5, 23.2, 18.6,\n",
       "       14.5, 17.8, 50. , 20.8, 24.3, 24.2, 19.8, 19.1, 22.7, 12. , 10.2,\n",
       "       20. , 18.5, 20.9, 23. , 27.5, 30.1,  9.5, 22. , 21.2, 14.1, 33.1,\n",
       "       23.4, 20.1,  7.4, 15.4, 23.8, 20.1, 24.5, 33. , 28.4, 14.1, 46.7,\n",
       "       32.5, 29.6, 28.4, 19.8, 20.2, 25. , 35.4, 20.3,  9.7, 14.5, 34.9,\n",
       "       26.6,  7.2, 50. , 32.4, 21.6, 29.8, 13.1, 27.5, 21.2, 23.1, 21.9,\n",
       "       13. , 23.2,  8.1,  5.6, 21.7, 29.6, 19.6,  7. , 26.4, 18.9, 20.9,\n",
       "       28.1, 35.4, 10.2, 24.3, 43.1, 17.6, 15.4, 16.2, 27.1, 21.4, 21.5,\n",
       "       22.4, 25. , 16.6, 18.6, 22. , 42.8, 35.1, 21.5, 36. , 21.9, 24.1,\n",
       "       50. , 26.7, 25. ])"
      ]
     },
     "execution_count": 63,
     "metadata": {},
     "output_type": "execute_result"
    }
   ],
   "source": [
    "y_test"
   ]
  },
  {
   "cell_type": "code",
   "execution_count": null,
   "metadata": {},
   "outputs": [],
   "source": []
  },
  {
   "cell_type": "code",
   "execution_count": null,
   "metadata": {},
   "outputs": [],
   "source": []
  }
 ],
 "metadata": {
  "kernelspec": {
   "display_name": "Python 3 (ipykernel)",
   "language": "python",
   "name": "python3"
  },
  "language_info": {
   "codemirror_mode": {
    "name": "ipython",
    "version": 3
   },
   "file_extension": ".py",
   "mimetype": "text/x-python",
   "name": "python",
   "nbconvert_exporter": "python",
   "pygments_lexer": "ipython3",
   "version": "3.11.4"
  }
 },
 "nbformat": 4,
 "nbformat_minor": 4
}
